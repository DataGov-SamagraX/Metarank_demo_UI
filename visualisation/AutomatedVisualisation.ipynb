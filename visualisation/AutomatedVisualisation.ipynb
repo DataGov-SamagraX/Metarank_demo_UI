{
 "cells": [
  {
   "cell_type": "code",
   "execution_count": 1,
   "id": "b1efb5e7",
   "metadata": {},
   "outputs": [],
   "source": [
    "import pandas as pd \n",
    "import numpy as np \n",
    "import os as os\n",
    "from datetime import datetime\n",
    "import time\n",
    "import json\n",
    "import gzip\n",
    "import pprint\n",
    "import requests\n",
    "import uuid"
   ]
  },
  {
   "cell_type": "code",
   "execution_count": 2,
   "id": "30e1994c",
   "metadata": {},
   "outputs": [],
   "source": [
    "user_file = './sample_users_1000.csv'\n",
    "item_file = './content_metadata.csv'\n",
    "\n",
    "user_df = pd.read_csv(user_file)\n",
    "item_df = pd.read_csv(item_file)"
   ]
  },
  {
   "cell_type": "code",
   "execution_count": 3,
   "id": "8d1640fb",
   "metadata": {},
   "outputs": [
    {
     "data": {
      "text/html": [
       "<div>\n",
       "<style scoped>\n",
       "    .dataframe tbody tr th:only-of-type {\n",
       "        vertical-align: middle;\n",
       "    }\n",
       "\n",
       "    .dataframe tbody tr th {\n",
       "        vertical-align: top;\n",
       "    }\n",
       "\n",
       "    .dataframe thead th {\n",
       "        text-align: right;\n",
       "    }\n",
       "</style>\n",
       "<table border=\"1\" class=\"dataframe\">\n",
       "  <thead>\n",
       "    <tr style=\"text-align: right;\">\n",
       "      <th></th>\n",
       "      <th>pushcall_id</th>\n",
       "      <th>base_tag</th>\n",
       "      <th>tag_2</th>\n",
       "      <th>tag_3</th>\n",
       "      <th>crop</th>\n",
       "      <th>month</th>\n",
       "      <th>duration</th>\n",
       "    </tr>\n",
       "  </thead>\n",
       "  <tbody>\n",
       "    <tr>\n",
       "      <th>0</th>\n",
       "      <td>20210703_cucurbits_downy_mildew_dpm_crop</td>\n",
       "      <td>crop</td>\n",
       "      <td>pest management</td>\n",
       "      <td>downy_mildew</td>\n",
       "      <td>cucurbits</td>\n",
       "      <td>7</td>\n",
       "      <td>90.94</td>\n",
       "    </tr>\n",
       "    <tr>\n",
       "      <th>1</th>\n",
       "      <td>20210703_maize_faw_dpm_crop</td>\n",
       "      <td>crop</td>\n",
       "      <td>pest management</td>\n",
       "      <td>faw</td>\n",
       "      <td>maize</td>\n",
       "      <td>7</td>\n",
       "      <td>129.50</td>\n",
       "    </tr>\n",
       "    <tr>\n",
       "      <th>2</th>\n",
       "      <td>20210703_sugarcane_top_shoot_borer_dpm_crop</td>\n",
       "      <td>crop</td>\n",
       "      <td>pest management</td>\n",
       "      <td>top_shoot_borer</td>\n",
       "      <td>sugarcane</td>\n",
       "      <td>7</td>\n",
       "      <td>81.65</td>\n",
       "    </tr>\n",
       "    <tr>\n",
       "      <th>3</th>\n",
       "      <td>20210801_brinjal_shoot_and_fruit_borer_dpm_crop</td>\n",
       "      <td>crop</td>\n",
       "      <td>pest management</td>\n",
       "      <td>shoot_and_fruit_borer</td>\n",
       "      <td>brinjal</td>\n",
       "      <td>8</td>\n",
       "      <td>118.54</td>\n",
       "    </tr>\n",
       "    <tr>\n",
       "      <th>4</th>\n",
       "      <td>20210801_groundnut_leaf_miner_sucking_pest_dpm...</td>\n",
       "      <td>crop</td>\n",
       "      <td>pest management</td>\n",
       "      <td>leaf_miner_sucking_pest</td>\n",
       "      <td>groundnut</td>\n",
       "      <td>8</td>\n",
       "      <td>98.45</td>\n",
       "    </tr>\n",
       "  </tbody>\n",
       "</table>\n",
       "</div>"
      ],
      "text/plain": [
       "                                         pushcall_id base_tag  \\\n",
       "0           20210703_cucurbits_downy_mildew_dpm_crop     crop   \n",
       "1                        20210703_maize_faw_dpm_crop     crop   \n",
       "2        20210703_sugarcane_top_shoot_borer_dpm_crop     crop   \n",
       "3    20210801_brinjal_shoot_and_fruit_borer_dpm_crop     crop   \n",
       "4  20210801_groundnut_leaf_miner_sucking_pest_dpm...     crop   \n",
       "\n",
       "             tag_2                    tag_3       crop  month  duration  \n",
       "0  pest management             downy_mildew  cucurbits      7     90.94  \n",
       "1  pest management                      faw      maize      7    129.50  \n",
       "2  pest management          top_shoot_borer  sugarcane      7     81.65  \n",
       "3  pest management    shoot_and_fruit_borer    brinjal      8    118.54  \n",
       "4  pest management  leaf_miner_sucking_pest  groundnut      8     98.45  "
      ]
     },
     "execution_count": 3,
     "metadata": {},
     "output_type": "execute_result"
    }
   ],
   "source": [
    "item_df.head()"
   ]
  },
  {
   "cell_type": "code",
   "execution_count": 4,
   "id": "7f1c1b30",
   "metadata": {},
   "outputs": [],
   "source": [
    "allowed_cols = ['base_tag','tag_2','crop']"
   ]
  },
  {
   "cell_type": "code",
   "execution_count": 5,
   "id": "4710e8d4",
   "metadata": {},
   "outputs": [],
   "source": [
    "# mapping an item with it's tag. Using base_tag tag_1 and crop to represent an id\n",
    "idx_to_base_tag2_crop_map = {}\n",
    "for _,row in item_df.iterrows():\n",
    "    item_id = row['pushcall_id']\n",
    "    val = None\n",
    "    for col in allowed_cols:\n",
    "        if val is None:\n",
    "            val = row[col]\n",
    "        else:\n",
    "            val = f\"{val}|{row[col]}\"\n",
    "    idx_to_base_tag2_crop_map[item_id] = val"
   ]
  },
  {
   "cell_type": "code",
   "execution_count": 6,
   "id": "80f1cb7a",
   "metadata": {},
   "outputs": [
    {
     "name": "stdout",
     "output_type": "stream",
     "text": [
      "370\n"
     ]
    },
    {
     "data": {
      "text/plain": [
       "74"
      ]
     },
     "execution_count": 6,
     "metadata": {},
     "output_type": "execute_result"
    }
   ],
   "source": [
    "# number of such permutation\n",
    "print(len(idx_to_base_tag2_crop_map))\n",
    "len(set(idx_to_base_tag2_crop_map.values()))"
   ]
  },
  {
   "cell_type": "code",
   "execution_count": 7,
   "id": "c60d8f44",
   "metadata": {},
   "outputs": [],
   "source": [
    "user_id = user_df['phone_number'].to_list()"
   ]
  },
  {
   "cell_type": "code",
   "execution_count": 8,
   "id": "d993a899",
   "metadata": {},
   "outputs": [],
   "source": [
    "item_id = item_df['pushcall_id'].to_list()"
   ]
  },
  {
   "cell_type": "code",
   "execution_count": 9,
   "id": "79852c65",
   "metadata": {},
   "outputs": [],
   "source": [
    "item_dic = [{'id':x,'relevancy':0} for x in item_id]"
   ]
  },
  {
   "cell_type": "code",
   "execution_count": 10,
   "id": "fe793a83",
   "metadata": {},
   "outputs": [
    {
     "data": {
      "text/plain": [
       "1667664945249"
      ]
     },
     "execution_count": 10,
     "metadata": {},
     "output_type": "execute_result"
    }
   ],
   "source": [
    "int(datetime.now().timestamp()*1000)"
   ]
  },
  {
   "cell_type": "code",
   "execution_count": 11,
   "id": "a8840bd6",
   "metadata": {},
   "outputs": [
    {
     "data": {
      "text/plain": [
       "'3887b41d-3743-4a6d-86e0-78d922cbd0da'"
      ]
     },
     "execution_count": 11,
     "metadata": {},
     "output_type": "execute_result"
    }
   ],
   "source": [
    "str(uuid.uuid4())"
   ]
  },
  {
   "cell_type": "code",
   "execution_count": 12,
   "id": "7424ed65",
   "metadata": {},
   "outputs": [],
   "source": [
    "all_requests = [{\n",
    "    'user':str(u_id),\n",
    "    'timestamp':int(datetime.now().timestamp()*1000),\n",
    "    'items':item_dic,\n",
    "    'id':str(uuid.uuid4()),\n",
    "    'event':'ranking',\n",
    "    'session':u_id,\n",
    "    'tenant': 'default', 'fields': []} for u_id in user_id]"
   ]
  },
  {
   "cell_type": "code",
   "execution_count": 13,
   "id": "eba7060e",
   "metadata": {},
   "outputs": [],
   "source": [
    "assert len(all_requests)==len(user_id),\"All user weren't created\"\n",
    "assert len(all_requests[0]['items'])==len(item_id),\"All items weren't added\""
   ]
  },
  {
   "cell_type": "code",
   "execution_count": 25,
   "id": "cfdc1cad",
   "metadata": {},
   "outputs": [],
   "source": [
    "url_rankings_explain = \"http://localhost:8080/rank/xgboost?explain=TRUE\"\n",
    "url_rankings = \"http://localhost:8080/rank/xgboost\"\n",
    "url_feedback = \"http://localhost:8080/feedback\""
   ]
  },
  {
   "cell_type": "code",
   "execution_count": 26,
   "id": "5dbf8be8",
   "metadata": {},
   "outputs": [],
   "source": [
    "headers = {\n",
    "  'Content-Type': 'application/json'\n",
    "}"
   ]
  },
  {
   "cell_type": "code",
   "execution_count": null,
   "id": "0d120149",
   "metadata": {},
   "outputs": [],
   "source": [
    "# this will store the vector for the user\n",
    "user_ranking_dic = {}\n",
    "user_item_ranking_dic = {}\n",
    "\n",
    "for req in all_requests:\n",
    "    usr = req['user']\n",
    "    payload = json.dumps(req)\n",
    "    response = requests.request(\"POST\", url_rankings, headers=headers, data=payload,timeout=10)\n",
    "    json1_data = json.loads(response.text)\n",
    "    ranking = json1_data['items']\n",
    "    # this will store the rank for each tag (tag here means base_tag|tag_1|crop)\n",
    "    item_tag_rank = {}\n",
    "    for item_rank in ranking:\n",
    "        item_id = item_rank['item']\n",
    "        user_item_ranking_dic.setdefault(item_id,[])\n",
    "        base_id = idx_to_base_tag2_crop_map[item_id]\n",
    "        score = item_rank['score']\n",
    "        user_item_ranking_dic[item_id].append(score)\n",
    "        item_tag_rank.setdefault(base_id,[])\n",
    "        item_tag_rank[base_id].append(score)\n",
    "        \n",
    "    # get average of score for each tag and push it in user_ranking_dic\n",
    "    user_ranking_dic.setdefault('user',[])\n",
    "    user_item_ranking_dic.setdefault('user',[])\n",
    "    user_ranking_dic['user'].append(usr)\n",
    "    user_item_ranking_dic['user'].append(usr)\n",
    "    for k,v in item_tag_rank.items():\n",
    "        user_ranking_dic.setdefault(k,[])\n",
    "        avg_item_score = sum(v)/len(v)\n",
    "        user_ranking_dic[k].append(avg_item_score)\n",
    "\n",
    "ranking_dic = pd.DataFrame(user_item_ranking_dic)\n",
    "df = pd.DataFrame(user_ranking_dic)\n",
    "df.to_csv('./user_item_vec.csv',index=False)\n",
    "ranking_dic.to_csv('./user_item_ranking.csv',index=False)"
   ]
  }
 ],
 "metadata": {
  "kernelspec": {
   "display_name": "Python 3 (ipykernel)",
   "language": "python",
   "name": "python3"
  },
  "language_info": {
   "codemirror_mode": {
    "name": "ipython",
    "version": 3
   },
   "file_extension": ".py",
   "mimetype": "text/x-python",
   "name": "python",
   "nbconvert_exporter": "python",
   "pygments_lexer": "ipython3",
   "version": "3.10.6"
  },
  "vscode": {
   "interpreter": {
    "hash": "916dbcbb3f70747c44a77c7bcd40155683ae19c65e1c03b4aa3499c5328201f1"
   }
  }
 },
 "nbformat": 4,
 "nbformat_minor": 5
}
