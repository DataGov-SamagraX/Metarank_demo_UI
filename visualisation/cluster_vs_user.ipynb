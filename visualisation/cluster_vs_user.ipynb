{
 "cells": [
  {
   "cell_type": "code",
   "execution_count": 3,
   "metadata": {},
   "outputs": [],
   "source": [
    "import pandas as pd\n",
    "import numpy as np\n",
    "import matplotlib.pyplot as plt\n",
    "import json"
   ]
  },
  {
   "cell_type": "code",
   "execution_count": 2,
   "metadata": {},
   "outputs": [
    {
     "name": "stdout",
     "output_type": "stream",
     "text": [
      "Index(['Unnamed: 0', 'phone_number', 'Activities', 'kharif_crops',\n",
      "       'Farmertype', 'district', 'Own_animal_large', 'Own_animal_small',\n",
      "       'Own_poultry', 'cluster'],\n",
      "      dtype='object')\n"
     ]
    },
    {
     "data": {
      "text/html": [
       "<div>\n",
       "<style scoped>\n",
       "    .dataframe tbody tr th:only-of-type {\n",
       "        vertical-align: middle;\n",
       "    }\n",
       "\n",
       "    .dataframe tbody tr th {\n",
       "        vertical-align: top;\n",
       "    }\n",
       "\n",
       "    .dataframe thead th {\n",
       "        text-align: right;\n",
       "    }\n",
       "</style>\n",
       "<table border=\"1\" class=\"dataframe\">\n",
       "  <thead>\n",
       "    <tr style=\"text-align: right;\">\n",
       "      <th></th>\n",
       "      <th>Unnamed: 0</th>\n",
       "      <th>phone_number</th>\n",
       "      <th>Activities</th>\n",
       "      <th>kharif_crops</th>\n",
       "      <th>Farmertype</th>\n",
       "      <th>district</th>\n",
       "      <th>Own_animal_large</th>\n",
       "      <th>Own_animal_small</th>\n",
       "      <th>Own_poultry</th>\n",
       "      <th>cluster</th>\n",
       "    </tr>\n",
       "  </thead>\n",
       "  <tbody>\n",
       "    <tr>\n",
       "      <th>0</th>\n",
       "      <td>859901</td>\n",
       "      <td>7894892401</td>\n",
       "      <td>['Crop_prod']</td>\n",
       "      <td>['paddy', 'brinjal', 'blackgram', 'greengram']</td>\n",
       "      <td>NaN</td>\n",
       "      <td>KEONJHAR</td>\n",
       "      <td>NaN</td>\n",
       "      <td>NaN</td>\n",
       "      <td>NaN</td>\n",
       "      <td>2</td>\n",
       "    </tr>\n",
       "    <tr>\n",
       "      <th>1</th>\n",
       "      <td>2760612</td>\n",
       "      <td>9938189160</td>\n",
       "      <td>['Animal_husbandry']</td>\n",
       "      <td>NaN</td>\n",
       "      <td>NaN</td>\n",
       "      <td>BOUDH</td>\n",
       "      <td>NaN</td>\n",
       "      <td>NaN</td>\n",
       "      <td>NaN</td>\n",
       "      <td>18</td>\n",
       "    </tr>\n",
       "    <tr>\n",
       "      <th>2</th>\n",
       "      <td>2749012</td>\n",
       "      <td>9938089536</td>\n",
       "      <td>NaN</td>\n",
       "      <td>NaN</td>\n",
       "      <td>NaN</td>\n",
       "      <td>NaN</td>\n",
       "      <td>NaN</td>\n",
       "      <td>NaN</td>\n",
       "      <td>NaN</td>\n",
       "      <td>2</td>\n",
       "    </tr>\n",
       "    <tr>\n",
       "      <th>3</th>\n",
       "      <td>2439876</td>\n",
       "      <td>9777234388</td>\n",
       "      <td>['Crop_prod']</td>\n",
       "      <td>NaN</td>\n",
       "      <td>NaN</td>\n",
       "      <td>BALASORE</td>\n",
       "      <td>NaN</td>\n",
       "      <td>NaN</td>\n",
       "      <td>NaN</td>\n",
       "      <td>2</td>\n",
       "    </tr>\n",
       "    <tr>\n",
       "      <th>4</th>\n",
       "      <td>2384312</td>\n",
       "      <td>9776210885</td>\n",
       "      <td>['Crop_prod', 'Animal_husbandry']</td>\n",
       "      <td>['cabbage', 'paddy', 'brinjal']</td>\n",
       "      <td>3.0</td>\n",
       "      <td>KEONJHAR</td>\n",
       "      <td>NaN</td>\n",
       "      <td>NaN</td>\n",
       "      <td>NaN</td>\n",
       "      <td>2</td>\n",
       "    </tr>\n",
       "  </tbody>\n",
       "</table>\n",
       "</div>"
      ],
      "text/plain": [
       "   Unnamed: 0  phone_number                         Activities  \\\n",
       "0      859901    7894892401                      ['Crop_prod']   \n",
       "1     2760612    9938189160               ['Animal_husbandry']   \n",
       "2     2749012    9938089536                                NaN   \n",
       "3     2439876    9777234388                      ['Crop_prod']   \n",
       "4     2384312    9776210885  ['Crop_prod', 'Animal_husbandry']   \n",
       "\n",
       "                                     kharif_crops  Farmertype  district  \\\n",
       "0  ['paddy', 'brinjal', 'blackgram', 'greengram']         NaN  KEONJHAR   \n",
       "1                                             NaN         NaN     BOUDH   \n",
       "2                                             NaN         NaN       NaN   \n",
       "3                                             NaN         NaN  BALASORE   \n",
       "4                 ['cabbage', 'paddy', 'brinjal']         3.0  KEONJHAR   \n",
       "\n",
       "   Own_animal_large  Own_animal_small  Own_poultry  cluster  \n",
       "0               NaN               NaN          NaN        2  \n",
       "1               NaN               NaN          NaN       18  \n",
       "2               NaN               NaN          NaN        2  \n",
       "3               NaN               NaN          NaN        2  \n",
       "4               NaN               NaN          NaN        2  "
      ]
     },
     "execution_count": 2,
     "metadata": {},
     "output_type": "execute_result"
    }
   ],
   "source": [
    "df = pd.read_csv('./fake_user_cluster.csv')\n",
    "print(df.columns)\n",
    "df.head()"
   ]
  },
  {
   "cell_type": "code",
   "execution_count": 4,
   "metadata": {},
   "outputs": [],
   "source": [
    "df = df.drop(columns=['Unnamed: 0', 'phone_number','Farmertype', 'district', 'Own_animal_large', 'Own_animal_small','Own_poultry'],axis=1)"
   ]
  },
  {
   "cell_type": "code",
   "execution_count": 20,
   "metadata": {},
   "outputs": [],
   "source": [
    "df = df.fillna(\"[]\")"
   ]
  },
  {
   "cell_type": "code",
   "execution_count": 21,
   "metadata": {},
   "outputs": [
    {
     "data": {
      "text/html": [
       "<div>\n",
       "<style scoped>\n",
       "    .dataframe tbody tr th:only-of-type {\n",
       "        vertical-align: middle;\n",
       "    }\n",
       "\n",
       "    .dataframe tbody tr th {\n",
       "        vertical-align: top;\n",
       "    }\n",
       "\n",
       "    .dataframe thead th {\n",
       "        text-align: right;\n",
       "    }\n",
       "</style>\n",
       "<table border=\"1\" class=\"dataframe\">\n",
       "  <thead>\n",
       "    <tr style=\"text-align: right;\">\n",
       "      <th></th>\n",
       "      <th>Activities</th>\n",
       "      <th>kharif_crops</th>\n",
       "      <th>cluster</th>\n",
       "    </tr>\n",
       "  </thead>\n",
       "  <tbody>\n",
       "    <tr>\n",
       "      <th>0</th>\n",
       "      <td>['Crop_prod']</td>\n",
       "      <td>['paddy', 'brinjal', 'blackgram', 'greengram']</td>\n",
       "      <td>2</td>\n",
       "    </tr>\n",
       "    <tr>\n",
       "      <th>1</th>\n",
       "      <td>['Animal_husbandry']</td>\n",
       "      <td>[]</td>\n",
       "      <td>18</td>\n",
       "    </tr>\n",
       "    <tr>\n",
       "      <th>2</th>\n",
       "      <td>[]</td>\n",
       "      <td>[]</td>\n",
       "      <td>2</td>\n",
       "    </tr>\n",
       "    <tr>\n",
       "      <th>3</th>\n",
       "      <td>['Crop_prod']</td>\n",
       "      <td>[]</td>\n",
       "      <td>2</td>\n",
       "    </tr>\n",
       "    <tr>\n",
       "      <th>4</th>\n",
       "      <td>['Crop_prod', 'Animal_husbandry']</td>\n",
       "      <td>['cabbage', 'paddy', 'brinjal']</td>\n",
       "      <td>2</td>\n",
       "    </tr>\n",
       "  </tbody>\n",
       "</table>\n",
       "</div>"
      ],
      "text/plain": [
       "                          Activities  \\\n",
       "0                      ['Crop_prod']   \n",
       "1               ['Animal_husbandry']   \n",
       "2                                 []   \n",
       "3                      ['Crop_prod']   \n",
       "4  ['Crop_prod', 'Animal_husbandry']   \n",
       "\n",
       "                                     kharif_crops  cluster  \n",
       "0  ['paddy', 'brinjal', 'blackgram', 'greengram']        2  \n",
       "1                                              []       18  \n",
       "2                                              []        2  \n",
       "3                                              []        2  \n",
       "4                 ['cabbage', 'paddy', 'brinjal']        2  "
      ]
     },
     "execution_count": 21,
     "metadata": {},
     "output_type": "execute_result"
    }
   ],
   "source": [
    "df.head()"
   ]
  },
  {
   "cell_type": "code",
   "execution_count": 30,
   "metadata": {},
   "outputs": [],
   "source": [
    "def convert_to_list(x):\n",
    "    tmp = [y.strip() for y in x.strip('][').replace(\"'\",\"\").split(',')]\n",
    "    if len(tmp[0])==0:\n",
    "        return []\n",
    "    return tmp"
   ]
  },
  {
   "cell_type": "code",
   "execution_count": 34,
   "metadata": {},
   "outputs": [],
   "source": [
    "def find_uniques(lst):\n",
    "    uniq = set()\n",
    "    for itm in lst:\n",
    "        itm = set(convert_to_list(itm))\n",
    "        uniq.update(itm)\n",
    "    return uniq"
   ]
  },
  {
   "cell_type": "code",
   "execution_count": 35,
   "metadata": {},
   "outputs": [],
   "source": [
    "activities = find_uniques(df['Activities'].to_list())\n",
    "khareef_crops = find_uniques(df['kharif_crops'].to_list())"
   ]
  },
  {
   "cell_type": "code",
   "execution_count": 38,
   "metadata": {},
   "outputs": [],
   "source": [
    "all_features = list(activities) + list(khareef_crops)\n",
    "feat_to_index = {f:i for i,f in enumerate(all_features)}"
   ]
  },
  {
   "cell_type": "code",
   "execution_count": 43,
   "metadata": {},
   "outputs": [],
   "source": [
    "user_data = np.zeros((len(df),len(all_features)))"
   ]
  },
  {
   "cell_type": "code",
   "execution_count": 48,
   "metadata": {},
   "outputs": [],
   "source": [
    "for idx,row in df.iterrows():\n",
    "    act = convert_to_list(row['Activities'])\n",
    "    khr = convert_to_list(row['kharif_crops'])\n",
    "    for itm in act+khr:\n",
    "        itm_idx = feat_to_index[itm]\n",
    "        user_data[idx,itm_idx] = 1"
   ]
  },
  {
   "cell_type": "code",
   "execution_count": 57,
   "metadata": {},
   "outputs": [],
   "source": [
    "data = np.hstack([df['cluster'].to_numpy().reshape(-1,1),user_data])\n",
    "all_columns = ['cluster']+all_features\n",
    "new_df = pd.DataFrame(data,columns=all_columns)"
   ]
  },
  {
   "cell_type": "code",
   "execution_count": 60,
   "metadata": {},
   "outputs": [],
   "source": [
    "user_cluster = new_df.groupby(['cluster']).sum()"
   ]
  },
  {
   "cell_type": "code",
   "execution_count": 62,
   "metadata": {},
   "outputs": [],
   "source": [
    "# for crops find fraction\n",
    "for col in list(user_cluster.columns)[4:]:\n",
    "    user_cluster[col] = user_cluster[col]/sum(user_cluster[col])"
   ]
  },
  {
   "cell_type": "code",
   "execution_count": 72,
   "metadata": {},
   "outputs": [],
   "source": [
    "def f(x):\n",
    "    curr_values = user_cluster.iloc[x].to_dict()\n",
    "    fig = plt.figure(figsize=(20,10))\n",
    "    for i in range(1,5):\n",
    "        plt.subplot(2,5,i+5)\n",
    "        col,col_value = list(curr_values.keys())[i-1],list(curr_values.values())[i-1]\n",
    "        other = user_cluster[col].sum() - col_value\n",
    "        y = [col_value,other]\n",
    "        labels = [col,\"Other\"]\n",
    "        explode = [0.2,0]\n",
    "        plt.pie(y, labels = labels, explode = explode)\n",
    "        plt.title(f'Columns {col}')\n",
    "        \n",
    "    plt.subplot(2,5,10)\n",
    "    labels,y = list(curr_values.keys())[:5],list(curr_values.values())[:5]\n",
    "    explode = [0.2]*len(labels)\n",
    "    plt.pie(y, labels = labels, explode = explode)\n",
    "    plt.title(f'Activities')\n",
    "        \n",
    "    plt.subplot(2, 1, 1)\n",
    "    plt.plot(list(curr_values.keys())[4:],list(curr_values.values())[4:])\n",
    "    plt.title(f'khareef crops vs fraction for cluster {x}')\n",
    "    plt.xlabel('Crop')\n",
    "    plt.ylabel('Fraction')\n",
    "    plt.xticks(rotation=90)"
   ]
  },
  {
   "cell_type": "code",
   "execution_count": 73,
   "metadata": {},
   "outputs": [
    {
     "data": {
      "application/vnd.jupyter.widget-view+json": {
       "model_id": "44b5ef85fa04433a80318e586bf63f70",
       "version_major": 2,
       "version_minor": 0
      },
      "text/plain": [
       "interactive(children=(IntSlider(value=0, description='x', max=20), Output()), _dom_classes=('widget-interact',…"
      ]
     },
     "metadata": {},
     "output_type": "display_data"
    }
   ],
   "source": [
    "from ipywidgets import interact\n",
    "import ipywidgets as widgets\n",
    "f = interact(f,x=widgets.IntSlider(min=0, max=20, step=1, value=0))"
   ]
  }
 ],
 "metadata": {
  "kernelspec": {
   "display_name": "Python 3.10.6 64-bit",
   "language": "python",
   "name": "python3"
  },
  "language_info": {
   "codemirror_mode": {
    "name": "ipython",
    "version": 3
   },
   "file_extension": ".py",
   "mimetype": "text/x-python",
   "name": "python",
   "nbconvert_exporter": "python",
   "pygments_lexer": "ipython3",
   "version": "3.10.6"
  },
  "orig_nbformat": 4,
  "vscode": {
   "interpreter": {
    "hash": "916dbcbb3f70747c44a77c7bcd40155683ae19c65e1c03b4aa3499c5328201f1"
   }
  }
 },
 "nbformat": 4,
 "nbformat_minor": 2
}
