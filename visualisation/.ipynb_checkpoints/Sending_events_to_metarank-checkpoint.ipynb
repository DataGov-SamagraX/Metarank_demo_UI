{
 "cells": [
  {
   "cell_type": "markdown",
   "id": "bd3adc0c",
   "metadata": {},
   "source": [
    "## Introduction"
   ]
  },
  {
   "cell_type": "markdown",
   "id": "dcfdcf50",
   "metadata": {},
   "source": [
    "The notebooks provides an example of json event that can be sent to metarank so as to receive the ranked items as a response "
   ]
  },
  {
   "cell_type": "markdown",
   "id": "90f45a04",
   "metadata": {},
   "source": [
    "Metarank is a recommendation engine that will be set up by Samagra on a remote desktop. Once it is setup, it gets hosted on a server and recommendations work by sending API ranking event requests to its URLs and the engine returns recommendations for the received events. "
   ]
  },
  {
   "cell_type": "markdown",
   "id": "240f52b5",
   "metadata": {},
   "source": [
    "We are trying to get recommendations for content for a user. Hence, for a user we know the userid(phone number) and the list of items to be ranked and the recommendation engine will return a ranked list of items "
   ]
  },
  {
   "cell_type": "markdown",
   "id": "e7534334",
   "metadata": {},
   "source": [
    "A sample ranking event looks like the below: "
   ]
  },
  {
   "cell_type": "code",
   "execution_count": 1,
   "id": "daf72491",
   "metadata": {},
   "outputs": [
    {
     "data": {
      "text/plain": [
       "{'user': '9583860235',\n",
       " 'timestamp': 1641026613708,\n",
       " 'items': [{'id': '20220103_paddy_basal_fertilizer_crop', 'relevancy': 0},\n",
       "  {'id': '20220102_pr_rabi_paddy_line_sowing_transplanting_crop',\n",
       "   'relevancy': 0},\n",
       "  {'id': '20220102_animal_goat_sheep_bm_livestock', 'relevancy': 0},\n",
       "  {'id': '20220101_animal_goat_sheep_fm_livestock', 'relevancy': 0}],\n",
       " 'id': '2022_01_01-2022_02_28_10596',\n",
       " 'event': 'ranking',\n",
       " 'session': '9583860235',\n",
       " 'tenant': 'default',\n",
       " 'fields': []}"
      ]
     },
     "execution_count": 1,
     "metadata": {},
     "output_type": "execute_result"
    }
   ],
   "source": [
    "{\"user\": \"9583860235\", \n",
    "               \"timestamp\": 1641026613708, \n",
    "               \"items\": [{\"id\": \"20220103_paddy_basal_fertilizer_crop\", \"relevancy\": 0},\n",
    "                         {\"id\": \"20220102_pr_rabi_paddy_line_sowing_transplanting_crop\", \"relevancy\": 0},\n",
    "                         {\"id\": \"20220102_animal_goat_sheep_bm_livestock\", \"relevancy\": 0}, \n",
    "                         {\"id\": \"20220101_animal_goat_sheep_fm_livestock\", \"relevancy\": 0}],\n",
    "               \"id\": \"2022_01_01-2022_02_28_10596\", \n",
    "               \"event\": \"ranking\", \n",
    "               \"session\": \"9583860235\", \n",
    "               \"tenant\": \"default\", \"fields\": []}"
   ]
  },
  {
   "cell_type": "markdown",
   "id": "16b4f6de",
   "metadata": {},
   "source": [
    "Describing the parts of the json event: \n",
    "- event: This is to describe which type of event it is, it should always be ‘ranking’ for ranking events\n",
    "- user:  The user to which the ranking list was shown. This is the userid (phone number)\n",
    "- items: List of items that were shown to the user. If we have some previous knowledge of the relevancy of the items, that can be fed here. However, we always consider relevancy as 0. Over here, we should provide all the content names that need to be ranked or recommended\n",
    "- id:  All ranking events have an associated id which should be unique\n",
    "- session: This provides the session id for the user. A user can have multiple sessions. In our current model, users and sessions are the same, each user is considered to be having one session only \n",
    "- Tenant: This is to  allow for multi-tenancy cases. In our case, it always has the value as ‘default’ \n",
    "- Fields:  This is for any additional fields for the ranking event. This is always an empty list in our model for ranking events \n"
   ]
  },
  {
   "cell_type": "markdown",
   "id": "93bb4413",
   "metadata": {},
   "source": [
    "**URL on which metarank gets hosted** :  \"http://localhost:8080/rank/xgboost\""
   ]
  },
  {
   "cell_type": "markdown",
   "id": "34f43604",
   "metadata": {},
   "source": [
    "Essentially, we  need to figure out how to :\n",
    "\n",
    "    - Convert the list of content and users that they have for which they need recommendations to the above event format \n",
    "    \n",
    "    - Send the above events as POST request to the URL\n",
    "    \n",
    "    - Parse the response from the URL in the required format"
   ]
  },
  {
   "cell_type": "markdown",
   "id": "888f92a9",
   "metadata": {},
   "source": [
    "## Sending events to the the metarank URL:"
   ]
  },
  {
   "cell_type": "markdown",
   "id": "af7d6bf5",
   "metadata": {},
   "source": [
    "### Installing libraries:"
   ]
  },
  {
   "cell_type": "code",
   "execution_count": null,
   "id": "49abf5a1",
   "metadata": {},
   "outputs": [],
   "source": [
    "!pip install grequests"
   ]
  },
  {
   "cell_type": "code",
   "execution_count": 2,
   "id": "d510cf6e",
   "metadata": {},
   "outputs": [],
   "source": [
    "import pandas as pd \n",
    "import numpy as np \n",
    "import os as os\n",
    "from datetime import datetime\n",
    "import json\n",
    "import gzip\n",
    "import pprint\n",
    "import grequests\n",
    "import requests"
   ]
  },
  {
   "cell_type": "markdown",
   "id": "8a9b3e53",
   "metadata": {},
   "source": [
    "### Setting metarank URL to send POST request to : "
   ]
  },
  {
   "cell_type": "code",
   "execution_count": 9,
   "id": "ab2dacd3",
   "metadata": {},
   "outputs": [],
   "source": [
    "url_rankings_explain = \"http://localhost:8080/rank/xgboost?explain=TRUE\"\n",
    "url_rankings = \"http://localhost:8080/rank/xgboost\"\n",
    "url_feedback = \"http://localhost:8080/feedback\""
   ]
  },
  {
   "cell_type": "markdown",
   "id": "8ade0c07",
   "metadata": {},
   "source": [
    "#### Defining a sample event: "
   ]
  },
  {
   "cell_type": "code",
   "execution_count": 10,
   "id": "135b53d1",
   "metadata": {},
   "outputs": [],
   "source": [
    "sample_ranking = {\"user\": \"9583860237\", \n",
    "               \"timestamp\": 1641026613708, \n",
    "               \"items\": [{\"id\": \"20220103_paddy_basal_fertilizer_crop\", \"relevancy\": 0},\n",
    "                         {\"id\": \"20220102_pr_rabi_paddy_line_sowing_transplanting_crop\", \"relevancy\": 0},\n",
    "                         {\"id\": \"20220104_pr_pulses_rabi_nutrient_management_crop\", \"relevancy\": 0},\n",
    "                         {\"id\": \"20220101_pr_rabi_pulses_seed_treatment_pesticide_crop\", \"relevancy\": 0},\n",
    "                         {\"id\": \"20220101_pr_rabi_paddy_line_sowing_transplanting_crop\", \"relevancy\": 0}, \n",
    "                         {\"id\": \"20220103_animal_cattle_buffalo_pp_livestock\", \"relevancy\": 0}, \n",
    "                         {\"id\": \"20211204_animal_cattle_buffalo_dm_livestock\", \"relevancy\": 0},\n",
    "                         {\"id\": \"20220103_animal_goat_sheep_dm_livestock\", \"relevancy\": 0},\n",
    "                         {\"id\": \"20211204_animal_goat_sheep_fm_livestock\", \"relevancy\": 0}, \n",
    "                         {\"id\": \"20220102_animal_chicken_duck_pp_livestock\", \"relevancy\": 0}, \n",
    "                         {\"id\": \"20220101_pr_rabi_paddy_seed_treatment_crop\", \"relevancy\": 0}, \n",
    "                         {\"id\": \"20220103_pr_paddy_zinc_application_basal_crop\", \"relevancy\": 0}, \n",
    "                         {\"id\": \"20220102_animal_cattle_buffalo_dm_livestock\", \"relevancy\": 0}, \n",
    "                         {\"id\": \"20220102_pr_rabi_pulses_seed_treatment_biofungicides_biofertilizer_crop\", \"relevancy\": 0},\n",
    "                         {\"id\": \"20220103_animal_chicken_duck_pp_livestock\", \"relevancy\": 0}, \n",
    "                         {\"id\": \"20211203_paddy_seed_treatment_crop\", \"relevancy\": 0}, \n",
    "                         {\"id\": \"20220103_pr_rabi_pulses_seed_treatment_biofungicides_biofertilizer_crop\", \"relevancy\": 0},\n",
    "                         {\"id\": \"20220102_pr_paddy_zinc_application_basal_crop\", \"relevancy\": 0}, \n",
    "                         {\"id\": \"20220103_pr_pulses_weed_management_crop\", \"relevancy\": 0}, \n",
    "                         {\"id\": \"20220103_pr_rabi_paddy_line_sowing_transplanting_crop\", \"relevancy\": 0}, \n",
    "                         {\"id\": \"20220102_pr_pulses_weed_management_crop\", \"relevancy\": 0},\n",
    "                         {\"id\": \"20220101_pr_rabi_pulses_seeed_treatment_fungicides_crop\", \"relevancy\": 0},\n",
    "                         {\"id\": \"20220101_animal_cattle_buffalo_fm_livestock\", \"relevancy\": 0}, \n",
    "                         {\"id\": \"20220102_animal_goat_sheep_bm_livestock\", \"relevancy\": 0}, \n",
    "                         {\"id\": \"20220101_animal_goat_sheep_fm_livestock\", \"relevancy\": 0}],\n",
    "               \"id\": \"2022_01_01-2022_02_28_10596\", \n",
    "               \"event\": \"ranking\", \n",
    "               \"session\": \"9583860237\", \n",
    "               \"tenant\": \"default\", \"fields\": []}\n"
   ]
  },
  {
   "cell_type": "markdown",
   "id": "479fe183",
   "metadata": {},
   "source": [
    "#### Sending a POST request with the sample event: \n",
    "\n",
    "The response from the URL is stored in the variable response"
   ]
  },
  {
   "cell_type": "code",
   "execution_count": 11,
   "id": "bf7b8430",
   "metadata": {},
   "outputs": [],
   "source": [
    "payload = json.dumps(sample_ranking)\n",
    "headers = {\n",
    "  'Content-Type': 'application/json'\n",
    "}\n",
    "response = requests.request(\"POST\", url_rankings, headers=headers, data=payload,timeout=10)"
   ]
  },
  {
   "cell_type": "markdown",
   "id": "628b99ae",
   "metadata": {},
   "source": [
    "#### Received response :"
   ]
  },
  {
   "cell_type": "markdown",
   "id": "62baf0e0",
   "metadata": {},
   "source": [
    "Below, we can see that we have received a ranked list of the items that we sent to metarank along with their score for the user"
   ]
  },
  {
   "cell_type": "code",
   "execution_count": 12,
   "id": "10eb51a2",
   "metadata": {},
   "outputs": [
    {
     "data": {
      "text/plain": [
       "<Response [504]>"
      ]
     },
     "execution_count": 12,
     "metadata": {},
     "output_type": "execute_result"
    }
   ],
   "source": [
    "response"
   ]
  },
  {
   "cell_type": "code",
   "execution_count": 8,
   "id": "427a3c96",
   "metadata": {},
   "outputs": [
    {
     "ename": "JSONDecodeError",
     "evalue": "Expecting value: line 1 column 1 (char 0)",
     "output_type": "error",
     "traceback": [
      "\u001b[0;31m---------------------------------------------------------------------------\u001b[0m",
      "\u001b[0;31mJSONDecodeError\u001b[0m                           Traceback (most recent call last)",
      "\u001b[1;32m/home/sn0w/Desktop/SamagraX/RecommendationEngine/repo/KO_Metarank_implementation/Sending_events_to_metarank.ipynb Cell 23\u001b[0m in \u001b[0;36m<cell line: 1>\u001b[0;34m()\u001b[0m\n\u001b[0;32m----> <a href='vscode-notebook-cell:/home/sn0w/Desktop/SamagraX/RecommendationEngine/repo/KO_Metarank_implementation/Sending_events_to_metarank.ipynb#X26sZmlsZQ%3D%3D?line=0'>1</a>\u001b[0m json1_data \u001b[39m=\u001b[39m json\u001b[39m.\u001b[39;49mloads(response\u001b[39m.\u001b[39;49mtext)\n\u001b[1;32m      <a href='vscode-notebook-cell:/home/sn0w/Desktop/SamagraX/RecommendationEngine/repo/KO_Metarank_implementation/Sending_events_to_metarank.ipynb#X26sZmlsZQ%3D%3D?line=1'>2</a>\u001b[0m json1_data[\u001b[39m'\u001b[39m\u001b[39mitems\u001b[39m\u001b[39m'\u001b[39m]\n",
      "File \u001b[0;32m/usr/lib/python3.8/json/__init__.py:357\u001b[0m, in \u001b[0;36mloads\u001b[0;34m(s, cls, object_hook, parse_float, parse_int, parse_constant, object_pairs_hook, **kw)\u001b[0m\n\u001b[1;32m    352\u001b[0m     \u001b[39mdel\u001b[39;00m kw[\u001b[39m'\u001b[39m\u001b[39mencoding\u001b[39m\u001b[39m'\u001b[39m]\n\u001b[1;32m    354\u001b[0m \u001b[39mif\u001b[39;00m (\u001b[39mcls\u001b[39m \u001b[39mis\u001b[39;00m \u001b[39mNone\u001b[39;00m \u001b[39mand\u001b[39;00m object_hook \u001b[39mis\u001b[39;00m \u001b[39mNone\u001b[39;00m \u001b[39mand\u001b[39;00m\n\u001b[1;32m    355\u001b[0m         parse_int \u001b[39mis\u001b[39;00m \u001b[39mNone\u001b[39;00m \u001b[39mand\u001b[39;00m parse_float \u001b[39mis\u001b[39;00m \u001b[39mNone\u001b[39;00m \u001b[39mand\u001b[39;00m\n\u001b[1;32m    356\u001b[0m         parse_constant \u001b[39mis\u001b[39;00m \u001b[39mNone\u001b[39;00m \u001b[39mand\u001b[39;00m object_pairs_hook \u001b[39mis\u001b[39;00m \u001b[39mNone\u001b[39;00m \u001b[39mand\u001b[39;00m \u001b[39mnot\u001b[39;00m kw):\n\u001b[0;32m--> 357\u001b[0m     \u001b[39mreturn\u001b[39;00m _default_decoder\u001b[39m.\u001b[39;49mdecode(s)\n\u001b[1;32m    358\u001b[0m \u001b[39mif\u001b[39;00m \u001b[39mcls\u001b[39m \u001b[39mis\u001b[39;00m \u001b[39mNone\u001b[39;00m:\n\u001b[1;32m    359\u001b[0m     \u001b[39mcls\u001b[39m \u001b[39m=\u001b[39m JSONDecoder\n",
      "File \u001b[0;32m/usr/lib/python3.8/json/decoder.py:337\u001b[0m, in \u001b[0;36mJSONDecoder.decode\u001b[0;34m(self, s, _w)\u001b[0m\n\u001b[1;32m    332\u001b[0m \u001b[39mdef\u001b[39;00m \u001b[39mdecode\u001b[39m(\u001b[39mself\u001b[39m, s, _w\u001b[39m=\u001b[39mWHITESPACE\u001b[39m.\u001b[39mmatch):\n\u001b[1;32m    333\u001b[0m     \u001b[39m\"\"\"Return the Python representation of ``s`` (a ``str`` instance\u001b[39;00m\n\u001b[1;32m    334\u001b[0m \u001b[39m    containing a JSON document).\u001b[39;00m\n\u001b[1;32m    335\u001b[0m \n\u001b[1;32m    336\u001b[0m \u001b[39m    \"\"\"\u001b[39;00m\n\u001b[0;32m--> 337\u001b[0m     obj, end \u001b[39m=\u001b[39m \u001b[39mself\u001b[39;49m\u001b[39m.\u001b[39;49mraw_decode(s, idx\u001b[39m=\u001b[39;49m_w(s, \u001b[39m0\u001b[39;49m)\u001b[39m.\u001b[39;49mend())\n\u001b[1;32m    338\u001b[0m     end \u001b[39m=\u001b[39m _w(s, end)\u001b[39m.\u001b[39mend()\n\u001b[1;32m    339\u001b[0m     \u001b[39mif\u001b[39;00m end \u001b[39m!=\u001b[39m \u001b[39mlen\u001b[39m(s):\n",
      "File \u001b[0;32m/usr/lib/python3.8/json/decoder.py:355\u001b[0m, in \u001b[0;36mJSONDecoder.raw_decode\u001b[0;34m(self, s, idx)\u001b[0m\n\u001b[1;32m    353\u001b[0m     obj, end \u001b[39m=\u001b[39m \u001b[39mself\u001b[39m\u001b[39m.\u001b[39mscan_once(s, idx)\n\u001b[1;32m    354\u001b[0m \u001b[39mexcept\u001b[39;00m \u001b[39mStopIteration\u001b[39;00m \u001b[39mas\u001b[39;00m err:\n\u001b[0;32m--> 355\u001b[0m     \u001b[39mraise\u001b[39;00m JSONDecodeError(\u001b[39m\"\u001b[39m\u001b[39mExpecting value\u001b[39m\u001b[39m\"\u001b[39m, s, err\u001b[39m.\u001b[39mvalue) \u001b[39mfrom\u001b[39;00m \u001b[39mNone\u001b[39m\n\u001b[1;32m    356\u001b[0m \u001b[39mreturn\u001b[39;00m obj, end\n",
      "\u001b[0;31mJSONDecodeError\u001b[0m: Expecting value: line 1 column 1 (char 0)"
     ]
    }
   ],
   "source": [
    "json1_data = json.loads(response.text)\n",
    "json1_data['items']"
   ]
  },
  {
   "cell_type": "markdown",
   "id": "3105528c",
   "metadata": {},
   "source": [
    "### Sending events for multiple users at once :"
   ]
  },
  {
   "cell_type": "markdown",
   "id": "4772275a",
   "metadata": {},
   "source": [
    "We below define a list of json events such that each event is for a different user and contains single/multiple items to be ranked "
   ]
  },
  {
   "cell_type": "code",
   "execution_count": 8,
   "id": "c11bb783",
   "metadata": {},
   "outputs": [],
   "source": [
    "send_req = [{'user': '6000396560',\n",
    "  'items': [{'id': '20220204_paddy_ysb_dpm_crop', 'relevancy': 0}],\n",
    "  'id': '2022_03_010',\n",
    "  'event': 'ranking',\n",
    "  'session': '6000396560',\n",
    "  'tenant': 'default',\n",
    "  'fields': [],\n",
    "  'timestamp': 1646179190000},\n",
    " {'user': '6000962788',\n",
    "  'items': [{'id': '20220204_mustard_aphid_dpm_crop', 'relevancy': 0},\n",
    "   {'id': '20220303_animal_cattle_buffalo_goat_sheep_pp_livestock',\n",
    "    'relevancy': 0},\n",
    "   {'id': '20220301_animal_cattle_buffalo_dm_livestock', 'relevancy': 0}],\n",
    "  'id': '2022_03_011',\n",
    "  'event': 'ranking',\n",
    "  'session': '6000962788',\n",
    "  'tenant': 'default',\n",
    "  'fields': [],\n",
    "  'timestamp': 1646179190000},\n",
    " {'user': '6001385413',\n",
    "  'items': [{'id': '20220203_animal_goat_sheep_dm_livestock', 'relevancy': 0},\n",
    "   {'id': '20220301_animal_goat_sheep_pp_livestock', 'relevancy': 0},\n",
    "   {'id': '20220303_animal_cattle_buffalo_goat_sheep_pp_livestock',\n",
    "    'relevancy': 0}],\n",
    "  'id': '2022_03_012',\n",
    "  'event': 'ranking',\n",
    "  'session': '6001385413',\n",
    "  'tenant': 'default',\n",
    "  'fields': [],\n",
    "  'timestamp': 1646179190000},\n",
    " {'user': '6001401077',\n",
    "  'items': [{'id': '20220301_paddy_fertilizer_pi_crop', 'relevancy': 0}],\n",
    "  'id': '2022_03_013',\n",
    "  'event': 'ranking',\n",
    "  'session': '6001401077',\n",
    "  'tenant': 'default',\n",
    "  'fields': [],\n",
    "  'timestamp': 1646179190000},\n",
    " {'user': '6001755806',\n",
    "  'items': [{'id': '20220204_okra_fertilizer_crop', 'relevancy': 0},\n",
    "   {'id': '20220303_okra_ymv_dpm_crop', 'relevancy': 0},\n",
    "   {'id': '20220204_brinjal_epilachna_beetle_dpm_crop', 'relevancy': 0}],\n",
    "  'id': '2022_03_014',\n",
    "  'event': 'ranking',\n",
    "  'session': '6001755806',\n",
    "  'tenant': 'default',\n",
    "  'fields': [],\n",
    "  'timestamp': 1646179190000},\n",
    " {'user': '6002555784',\n",
    "  'items': [{'id': '20220303_animal_cattle_buffalo_goat_sheep_pp_livestock',\n",
    "    'relevancy': 0}],\n",
    "  'id': '2022_03_015',\n",
    "  'event': 'ranking',\n",
    "  'session': '6002555784',\n",
    "  'tenant': 'default',\n",
    "  'fields': [],\n",
    "  'timestamp': 1646179190000},\n",
    " {'user': '6002625472',\n",
    "  'items': [{'id': '20220203_animal_goat_sheep_dm_livestock', 'relevancy': 0},\n",
    "   {'id': '20220303_animal_cattle_buffalo_goat_sheep_pp_livestock',\n",
    "    'relevancy': 0}],\n",
    "  'id': '2022_03_016',\n",
    "  'event': 'ranking',\n",
    "  'session': '6002625472',\n",
    "  'tenant': 'default',\n",
    "  'fields': [],\n",
    "  'timestamp': 1646179190000},\n",
    " {'user': '6003094533',\n",
    "  'items': [{'id': '20220204_paddy_ysb_dpm_crop', 'relevancy': 0},\n",
    "   {'id': '20220302_paddy_ysb_dpm_crop', 'relevancy': 0},\n",
    "   {'id': '20220203_animal_cattle_buffalo_hm_livestock', 'relevancy': 0},\n",
    "   {'id': '20220303_paddy_pi_fertilizer_crop', 'relevancy': 0}],\n",
    "  'id': '2022_03_017',\n",
    "  'event': 'ranking',\n",
    "  'session': '6003094533',\n",
    "  'tenant': 'default',\n",
    "  'fields': [],\n",
    "  'timestamp': 1646179190000},\n",
    " {'user': '6005070448',\n",
    "  'items': [{'id': '20220301_pulses_aphid_dpm_crop', 'relevancy': 0},\n",
    "   {'id': '20220204_pulses_oilseed_tobacco_caterpillar_dpm_crop',\n",
    "    'relevancy': 0},\n",
    "   {'id': '20220302_blackgram_greengram_aphid_dpm_crop', 'relevancy': 0}],\n",
    "  'id': '2022_03_018',\n",
    "  'event': 'ranking',\n",
    "  'session': '6005070448',\n",
    "  'tenant': 'default',\n",
    "  'fields': [],\n",
    "  'timestamp': 1646179190000},\n",
    " {'user': '6005117243',\n",
    "  'items': [{'id': '20220301_animal_cattle_buffalo_dm_livestock',\n",
    "    'relevancy': 0}],\n",
    "  'id': '2022_03_019',\n",
    "  'event': 'ranking',\n",
    "  'session': '6005117243',\n",
    "  'tenant': 'default',\n",
    "  'fields': [],\n",
    "  'timestamp': 1646179190000}]"
   ]
  },
  {
   "cell_type": "markdown",
   "id": "48ebc33f",
   "metadata": {},
   "source": [
    "#### Sending the above json event as POST request to Metarank:"
   ]
  },
  {
   "cell_type": "code",
   "execution_count": 10,
   "id": "22c1c7df",
   "metadata": {},
   "outputs": [],
   "source": [
    "\n",
    "headers = {\n",
    "  'Content-Type': 'application/json'\n",
    "}\n",
    "\n",
    "response = [grequests.post(url_rankings, headers=headers, data=json.dumps(a_url),timeout=10) for a_url in send_req]\n",
    "responses1 = grequests.map(response)"
   ]
  },
  {
   "cell_type": "code",
   "execution_count": 11,
   "id": "589ed25d",
   "metadata": {},
   "outputs": [],
   "source": [
    "all_ranks =  [json.loads(x.text)['items'] for x in responses1 ]"
   ]
  },
  {
   "cell_type": "markdown",
   "id": "c3c1c898",
   "metadata": {},
   "source": [
    "#### Results for one user: "
   ]
  },
  {
   "cell_type": "code",
   "execution_count": 12,
   "id": "9dcb26f3",
   "metadata": {
    "scrolled": false
   },
   "outputs": [
    {
     "data": {
      "text/plain": [
       "[{'item': '20220204_mustard_aphid_dpm_crop',\n",
       "  'score': -0.27890539169311523,\n",
       "  'features': []},\n",
       " {'item': '20220303_animal_cattle_buffalo_goat_sheep_pp_livestock',\n",
       "  'score': -0.27890539169311523,\n",
       "  'features': []},\n",
       " {'item': '20220301_animal_cattle_buffalo_dm_livestock',\n",
       "  'score': -0.27890539169311523,\n",
       "  'features': []}]"
      ]
     },
     "execution_count": 12,
     "metadata": {},
     "output_type": "execute_result"
    }
   ],
   "source": [
    "all_ranks[1]"
   ]
  },
  {
   "cell_type": "markdown",
   "id": "4ec3e7c2",
   "metadata": {},
   "source": [
    "####  Results for all users:"
   ]
  },
  {
   "cell_type": "code",
   "execution_count": 55,
   "id": "0350ee6d",
   "metadata": {},
   "outputs": [
    {
     "data": {
      "text/plain": [
       "[[{'item': '20220204_paddy_ysb_dpm_crop',\n",
       "   'score': -0.28562623262405396,\n",
       "   'features': []}],\n",
       " [{'item': '20220204_mustard_aphid_dpm_crop',\n",
       "   'score': -0.28562623262405396,\n",
       "   'features': []},\n",
       "  {'item': '20220303_animal_cattle_buffalo_goat_sheep_pp_livestock',\n",
       "   'score': -0.28562623262405396,\n",
       "   'features': []},\n",
       "  {'item': '20220301_animal_cattle_buffalo_dm_livestock',\n",
       "   'score': -0.3230266571044922,\n",
       "   'features': []}],\n",
       " [{'item': '20220203_animal_goat_sheep_dm_livestock',\n",
       "   'score': -0.28562623262405396,\n",
       "   'features': []},\n",
       "  {'item': '20220301_animal_goat_sheep_pp_livestock',\n",
       "   'score': -0.28562623262405396,\n",
       "   'features': []},\n",
       "  {'item': '20220303_animal_cattle_buffalo_goat_sheep_pp_livestock',\n",
       "   'score': -0.28562623262405396,\n",
       "   'features': []}],\n",
       " [{'item': '20220301_paddy_fertilizer_pi_crop',\n",
       "   'score': -0.28562623262405396,\n",
       "   'features': []}],\n",
       " [{'item': '20220204_okra_fertilizer_crop',\n",
       "   'score': -0.28562623262405396,\n",
       "   'features': []},\n",
       "  {'item': '20220303_okra_ymv_dpm_crop',\n",
       "   'score': -0.28562623262405396,\n",
       "   'features': []},\n",
       "  {'item': '20220204_brinjal_epilachna_beetle_dpm_crop',\n",
       "   'score': -0.28562623262405396,\n",
       "   'features': []}],\n",
       " [{'item': '20220303_animal_cattle_buffalo_goat_sheep_pp_livestock',\n",
       "   'score': -0.28562623262405396,\n",
       "   'features': []}],\n",
       " [{'item': '20220203_animal_goat_sheep_dm_livestock',\n",
       "   'score': -0.28562623262405396,\n",
       "   'features': []},\n",
       "  {'item': '20220303_animal_cattle_buffalo_goat_sheep_pp_livestock',\n",
       "   'score': -0.28562623262405396,\n",
       "   'features': []}],\n",
       " [{'item': '20220204_paddy_ysb_dpm_crop',\n",
       "   'score': -0.21143367886543274,\n",
       "   'features': []},\n",
       "  {'item': '20220302_paddy_ysb_dpm_crop',\n",
       "   'score': -0.28562623262405396,\n",
       "   'features': []},\n",
       "  {'item': '20220203_animal_cattle_buffalo_hm_livestock',\n",
       "   'score': -0.28562623262405396,\n",
       "   'features': []},\n",
       "  {'item': '20220303_paddy_pi_fertilizer_crop',\n",
       "   'score': -0.28562623262405396,\n",
       "   'features': []}],\n",
       " [{'item': '20220301_pulses_aphid_dpm_crop',\n",
       "   'score': -0.28562623262405396,\n",
       "   'features': []},\n",
       "  {'item': '20220204_pulses_oilseed_tobacco_caterpillar_dpm_crop',\n",
       "   'score': -0.28562623262405396,\n",
       "   'features': []},\n",
       "  {'item': '20220302_blackgram_greengram_aphid_dpm_crop',\n",
       "   'score': -0.28562623262405396,\n",
       "   'features': []}],\n",
       " [{'item': '20220301_animal_cattle_buffalo_dm_livestock',\n",
       "   'score': -0.28562623262405396,\n",
       "   'features': []}]]"
      ]
     },
     "execution_count": 55,
     "metadata": {},
     "output_type": "execute_result"
    }
   ],
   "source": [
    "all_ranks"
   ]
  }
 ],
 "metadata": {
  "kernelspec": {
   "display_name": "Python 3 (ipykernel)",
   "language": "python",
   "name": "python3"
  },
  "language_info": {
   "codemirror_mode": {
    "name": "ipython",
    "version": 3
   },
   "file_extension": ".py",
   "mimetype": "text/x-python",
   "name": "python",
   "nbconvert_exporter": "python",
   "pygments_lexer": "ipython3",
   "version": "3.8.10"
  },
  "toc": {
   "base_numbering": 1,
   "nav_menu": {},
   "number_sections": true,
   "sideBar": true,
   "skip_h1_title": false,
   "title_cell": "Table of Contents",
   "title_sidebar": "Contents",
   "toc_cell": false,
   "toc_position": {},
   "toc_section_display": true,
   "toc_window_display": false
  },
  "varInspector": {
   "cols": {
    "lenName": 16,
    "lenType": 16,
    "lenVar": 40
   },
   "kernels_config": {
    "python": {
     "delete_cmd_postfix": "",
     "delete_cmd_prefix": "del ",
     "library": "var_list.py",
     "varRefreshCmd": "print(var_dic_list())"
    },
    "r": {
     "delete_cmd_postfix": ") ",
     "delete_cmd_prefix": "rm(",
     "library": "var_list.r",
     "varRefreshCmd": "cat(var_dic_list()) "
    }
   },
   "types_to_exclude": [
    "module",
    "function",
    "builtin_function_or_method",
    "instance",
    "_Feature"
   ],
   "window_display": false
  },
  "vscode": {
   "interpreter": {
    "hash": "916dbcbb3f70747c44a77c7bcd40155683ae19c65e1c03b4aa3499c5328201f1"
   }
  }
 },
 "nbformat": 4,
 "nbformat_minor": 5
}
