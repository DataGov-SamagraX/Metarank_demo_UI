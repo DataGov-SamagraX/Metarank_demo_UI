{
 "cells": [
  {
   "cell_type": "code",
   "execution_count": 1,
   "metadata": {},
   "outputs": [],
   "source": [
    "import pandas as pd\n",
    "import numpy as np\n",
    "import matplotlib.pyplot as plt"
   ]
  },
  {
   "cell_type": "code",
   "execution_count": 2,
   "metadata": {},
   "outputs": [],
   "source": [
    "data_df = pd.read_csv('./fake_data_with_cluster.csv')\n",
    "df = pd.read_csv('./fake_user_cluster.csv')"
   ]
  },
  {
   "cell_type": "code",
   "execution_count": 3,
   "metadata": {},
   "outputs": [],
   "source": [
    "df = df.drop(columns=['Unnamed: 0', 'phone_number','Farmertype', 'district', 'Own_animal_large', 'Own_animal_small','Own_poultry'],axis=1)\n",
    "df = df.fillna(\"[]\")"
   ]
  },
  {
   "cell_type": "code",
   "execution_count": 4,
   "metadata": {},
   "outputs": [],
   "source": [
    "def convert_to_list(x):\n",
    "    tmp = [y.strip() for y in x.strip('][').replace(\"'\",\"\").split(',')]\n",
    "    if len(tmp[0])==0:\n",
    "        return []\n",
    "    return tmp\n",
    "\n",
    "def find_uniques(lst):\n",
    "    uniq = set()\n",
    "    for itm in lst:\n",
    "        itm = set(convert_to_list(itm))\n",
    "        uniq.update(itm)\n",
    "    return uniq"
   ]
  },
  {
   "cell_type": "code",
   "execution_count": 5,
   "metadata": {},
   "outputs": [],
   "source": [
    "activities = find_uniques(df['Activities'].to_list())\n",
    "khareef_crops = find_uniques(df['kharif_crops'].to_list())"
   ]
  },
  {
   "cell_type": "code",
   "execution_count": 6,
   "metadata": {},
   "outputs": [],
   "source": [
    "all_features = list(activities) + list(khareef_crops)\n",
    "feat_to_index = {f:i for i,f in enumerate(all_features)}"
   ]
  },
  {
   "cell_type": "code",
   "execution_count": 7,
   "metadata": {},
   "outputs": [],
   "source": [
    "user_data = np.zeros((len(df),len(all_features)))"
   ]
  },
  {
   "cell_type": "code",
   "execution_count": 8,
   "metadata": {},
   "outputs": [],
   "source": [
    "for idx,row in df.iterrows():\n",
    "    act = convert_to_list(row['Activities'])\n",
    "    khr = convert_to_list(row['kharif_crops'])\n",
    "    for itm in act+khr:\n",
    "        itm_idx = feat_to_index[itm]\n",
    "        user_data[idx,itm_idx] = 1"
   ]
  },
  {
   "cell_type": "code",
   "execution_count": 9,
   "metadata": {},
   "outputs": [],
   "source": [
    "data = np.hstack([df['cluster'].to_numpy().reshape(-1,1),user_data])\n",
    "all_columns = ['cluster']+all_features\n",
    "new_df = pd.DataFrame(data,columns=all_columns)\n",
    "new_df['num_farmer'] = 1"
   ]
  },
  {
   "cell_type": "code",
   "execution_count": 10,
   "metadata": {},
   "outputs": [],
   "source": [
    "user_cluster = new_df.groupby(['cluster']).sum()"
   ]
  },
  {
   "cell_type": "code",
   "execution_count": 11,
   "metadata": {},
   "outputs": [],
   "source": [
    "# for crops find fraction\n",
    "for col in list(user_cluster.columns)[4:-1]:\n",
    "    user_cluster[f'{col}_percent'] = user_cluster[col]*100/user_cluster['num_farmer']\n",
    "    user_cluster[col] = user_cluster[col]*100/sum(user_cluster[col])"
   ]
  },
  {
   "cell_type": "code",
   "execution_count": 15,
   "metadata": {},
   "outputs": [],
   "source": [
    "# find average ranking for each cluster\n",
    "data_df = data_df.drop(columns=['user'],axis=1)\n",
    "cluster_data_df = data_df.groupby('cluster').mean()"
   ]
  },
  {
   "cell_type": "code",
   "execution_count": 91,
   "metadata": {},
   "outputs": [],
   "source": [
    "def f(x):\n",
    "    curr_values = cluster_data_df.iloc[x].to_dict()\n",
    "    fig = plt.figure(figsize=(20,10))\n",
    "    plt.subplot(3,1,1)\n",
    "    plt.plot(curr_values.keys(),curr_values.values())\n",
    "    plt.title(f'Cluster {x}')\n",
    "    plt.xlabel('items')\n",
    "    plt.ylabel('ranking')\n",
    "    plt.xticks(ticks=[])\n",
    "    curr_values = user_cluster.iloc[x].to_dict()\n",
    "    plt.subplot(3,1,2)\n",
    "    plt.plot(list(curr_values.keys())[4:33],list(curr_values.values())[4:33])\n",
    "    plt.title(f'khareef crops grown by cluster {x} vs total cluster')\n",
    "    plt.xlabel('Crop')\n",
    "    plt.ylabel('Percentage')\n",
    "    plt.xticks(ticks=[])\n",
    "    plt.subplot(3,1,3)\n",
    "    plt.plot([x.split('_')[0] for x in list(curr_values.keys())[33:]],list(curr_values.values())[33:])\n",
    "    num_farmer = curr_values['num_farmer']\n",
    "    plt.title(f'Percentage crop grown by cluster {x} total farmer {num_farmer}')\n",
    "    plt.xlabel('Crop')\n",
    "    plt.ylabel('Percentage')\n",
    "    plt.xticks(rotation=90)"
   ]
  },
  {
   "cell_type": "code",
   "execution_count": 92,
   "metadata": {},
   "outputs": [
    {
     "data": {
      "application/vnd.jupyter.widget-view+json": {
       "model_id": "1f7f3586230f4f33b96ea208a2970611",
       "version_major": 2,
       "version_minor": 0
      },
      "text/plain": [
       "interactive(children=(IntSlider(value=0, description='x', max=20), Output()), _dom_classes=('widget-interact',…"
      ]
     },
     "metadata": {},
     "output_type": "display_data"
    }
   ],
   "source": [
    "from ipywidgets import interact\n",
    "import ipywidgets as widgets\n",
    "f = interact(f,x=widgets.IntSlider(min=0, max=20, step=1, value=0))"
   ]
  }
 ],
 "metadata": {
  "kernelspec": {
   "display_name": "Python 3.10.6 64-bit",
   "language": "python",
   "name": "python3"
  },
  "language_info": {
   "codemirror_mode": {
    "name": "ipython",
    "version": 3
   },
   "file_extension": ".py",
   "mimetype": "text/x-python",
   "name": "python",
   "nbconvert_exporter": "python",
   "pygments_lexer": "ipython3",
   "version": "3.10.6"
  },
  "orig_nbformat": 4,
  "vscode": {
   "interpreter": {
    "hash": "916dbcbb3f70747c44a77c7bcd40155683ae19c65e1c03b4aa3499c5328201f1"
   }
  }
 },
 "nbformat": 4,
 "nbformat_minor": 2
}
