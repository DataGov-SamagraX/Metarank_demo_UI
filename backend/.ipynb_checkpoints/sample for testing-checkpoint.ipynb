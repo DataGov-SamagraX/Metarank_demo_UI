{
 "cells": [
  {
   "cell_type": "code",
   "execution_count": 1,
   "id": "6b5eb6ec",
   "metadata": {},
   "outputs": [],
   "source": [
    "import numpy as np\n",
    "import pandas as pd \n",
    "import random\n",
    "\n",
    "import requests\n",
    "import json\n",
    "\n",
    "url_rankings_explain = \"http://localhost:8080/rank/xgboost?explain=TRUE\"\n",
    "url_rankings = \"http://localhost:8080/rank/xgboost\"\n",
    "url_feedback = \"http://localhost:8080/feedback\""
   ]
  },
  {
   "cell_type": "code",
   "execution_count": 2,
   "id": "fa46d343",
   "metadata": {},
   "outputs": [],
   "source": [
    "items_dic =  [{\"id\": \"test20211102_paddy_bph_dpm_crop\", \"relevancy\": 0},\n",
    "           {\"id\": \"test20210704_paddy_at_fertilizer_management_crop\", \"relevancy\": 0},\n",
    "           {\"id\": \"20211104_paddy_caterpillar_dpm_crop\", \"relevancy\": 0},\n",
    "           {\"id\": \"test20211103_paddy_harvest_management_crop\", \"relevancy\": 0},\n",
    "           {\"id\": \"test20211204_paddy_nursery_management_crop\", \"relevancy\": 0},\n",
    "           {\"id\": \"test20210805_paddy_contingent_measures_crop\", \"relevancy\": 0},\n",
    "           {\"id\": \"test20210804_animal_cattle_buffalo_pp_livestock\", \"relevancy\": 0},\n",
    "           {\"id\": \"test20210902_animal_cattle_buffalo_hm_livestock\", \"relevancy\": 0},\n",
    "           {\"id\": \"test20211003_animal_cattle_buffalo_vaccination_livestock\", \"relevancy\": 0},\n",
    "           {\"id\": \"test20210803_livestock_cattle_buffalo_vaccination_animal\", \"relevancy\": 0}]"
   ]
  },
  {
   "cell_type": "code",
   "execution_count": 3,
   "id": "fd0beb40",
   "metadata": {},
   "outputs": [],
   "source": [
    "timestamp_start =  1646242273000\n",
    "user_id_input =  \"23983847837\""
   ]
  },
  {
   "cell_type": "code",
   "execution_count": 4,
   "id": "7815a503",
   "metadata": {},
   "outputs": [],
   "source": [
    "def get_ranking( user_id_input, timestamp ):\n",
    "    payload = json.dumps(\n",
    "    {\n",
    "        \"event\": \"ranking\",\n",
    "        \"fields\": [],\n",
    "        \"id\": \"4535354hg\",\n",
    "        \"items\": items_dic,\n",
    "        \"session\": user_id_input,\n",
    "        \"tenant\": \"default\",\n",
    "        \"timestamp\": timestamp,\n",
    "        \"user\": user_id_input\n",
    "    })\n",
    "    headers = {\n",
    "      'Content-Type': 'application/json'\n",
    "    }\n",
    "\n",
    "    response = requests.request(\"POST\", url_rankings, headers=headers, data=payload,timeout=10)\n",
    "    json1_data = json.loads(response.text)\n",
    "    #pprint.pprint(json1_data['items'][0:5])\n",
    "    timestamp= timestamp + 1000\n",
    "    return(timestamp,json1_data['items'])"
   ]
  },
  {
   "cell_type": "code",
   "execution_count": 5,
   "id": "0185df86",
   "metadata": {},
   "outputs": [],
   "source": [
    "def make_cick_and_get_ranking(user_id_input, timestamp, item_id):\n",
    "    \n",
    "    timestamp = timestamp + 1\n",
    "    payload = json.dumps({\n",
    "        \"event\": \"interaction\",\n",
    "        \"fields\": [],\n",
    "        \"id\": str(\"1003\"+str(timestamp)), \n",
    "        \"item\": item_id,\n",
    "        \"ranking\": \"4535354hg\", \n",
    "        \"session\": user_id_input, \n",
    "        \"tenant\": \"default\",\n",
    "        \"timestamp\": timestamp, \n",
    "        \"type\": \"click\",\n",
    "        \"user\": user_id_input\n",
    "    })\n",
    "    headers = {\n",
    "      'Content-Type': 'application/json'\n",
    "    }\n",
    "\n",
    "    response = requests.request(\"POST\", url_feedback, headers=headers, data=payload,timeout=10)\n",
    "    \n",
    "    timestamp= timestamp + 1\n",
    "    \n",
    "    timestamp, data = get_ranking( user_id_input, timestamp)\n",
    "      \n",
    "    return(timestamp,data)"
   ]
  },
  {
   "cell_type": "code",
   "execution_count": 6,
   "id": "cc2b649e",
   "metadata": {},
   "outputs": [],
   "source": [
    "payload = json.dumps({\n",
    "    \"user\": \"23983847837\", \n",
    "     \"fields\": [{\"name\": \"Activities\", \"value\": [\"Crop_prod\"]},\n",
    "            {\"name\": \"kharif_crops\", \"value\": [\"paddy\"]}, \n",
    "            {\"name\": \"district\", \"value\": \"BOLANGIR\"}],\n",
    "    \"id\": \"23983847837\",\n",
    "    \"timestamp\": 1400000000000,\n",
    "    \"event\": \"user\"\n",
    "})\n",
    "headers = {\n",
    "  'Content-Type': 'application/json'\n",
    "  }\n",
    "\n",
    "response = requests.request(\"POST\", url_feedback, headers=headers, data=payload,timeout=10)"
   ]
  },
  {
   "cell_type": "code",
   "execution_count": 7,
   "id": "92126e67",
   "metadata": {},
   "outputs": [],
   "source": [
    "timestamp_start =  1646242273000\n",
    "user_id_input =  \"23983847837\""
   ]
  },
  {
   "cell_type": "code",
   "execution_count": 8,
   "id": "f8b491a8",
   "metadata": {
    "scrolled": false
   },
   "outputs": [
    {
     "ename": "JSONDecodeError",
     "evalue": "Expecting value: line 1 column 1 (char 0)",
     "output_type": "error",
     "traceback": [
      "\u001b[0;31m---------------------------------------------------------------------------\u001b[0m",
      "\u001b[0;31mJSONDecodeError\u001b[0m                           Traceback (most recent call last)",
      "Input \u001b[0;32mIn [8]\u001b[0m, in \u001b[0;36m<cell line: 1>\u001b[0;34m()\u001b[0m\n\u001b[0;32m----> 1\u001b[0m timestamp,data_dic \u001b[38;5;241m=\u001b[39m \u001b[43mget_ranking\u001b[49m\u001b[43m(\u001b[49m\u001b[43m \u001b[49m\u001b[43muser_id_input\u001b[49m\u001b[43m,\u001b[49m\u001b[43m \u001b[49m\u001b[43mtimestamp_start\u001b[49m\u001b[43m \u001b[49m\u001b[43m)\u001b[49m\n",
      "Input \u001b[0;32mIn [4]\u001b[0m, in \u001b[0;36mget_ranking\u001b[0;34m(user_id_input, timestamp)\u001b[0m\n\u001b[1;32m     13\u001b[0m headers \u001b[38;5;241m=\u001b[39m {\n\u001b[1;32m     14\u001b[0m   \u001b[38;5;124m'\u001b[39m\u001b[38;5;124mContent-Type\u001b[39m\u001b[38;5;124m'\u001b[39m: \u001b[38;5;124m'\u001b[39m\u001b[38;5;124mapplication/json\u001b[39m\u001b[38;5;124m'\u001b[39m\n\u001b[1;32m     15\u001b[0m }\n\u001b[1;32m     17\u001b[0m response \u001b[38;5;241m=\u001b[39m requests\u001b[38;5;241m.\u001b[39mrequest(\u001b[38;5;124m\"\u001b[39m\u001b[38;5;124mPOST\u001b[39m\u001b[38;5;124m\"\u001b[39m, url_rankings, headers\u001b[38;5;241m=\u001b[39mheaders, data\u001b[38;5;241m=\u001b[39mpayload,timeout\u001b[38;5;241m=\u001b[39m\u001b[38;5;241m10\u001b[39m)\n\u001b[0;32m---> 18\u001b[0m json1_data \u001b[38;5;241m=\u001b[39m \u001b[43mjson\u001b[49m\u001b[38;5;241;43m.\u001b[39;49m\u001b[43mloads\u001b[49m\u001b[43m(\u001b[49m\u001b[43mresponse\u001b[49m\u001b[38;5;241;43m.\u001b[39;49m\u001b[43mtext\u001b[49m\u001b[43m)\u001b[49m\n\u001b[1;32m     19\u001b[0m \u001b[38;5;66;03m#pprint.pprint(json1_data['items'][0:5])\u001b[39;00m\n\u001b[1;32m     20\u001b[0m timestamp\u001b[38;5;241m=\u001b[39m timestamp \u001b[38;5;241m+\u001b[39m \u001b[38;5;241m1000\u001b[39m\n",
      "File \u001b[0;32m/usr/lib/python3.8/json/__init__.py:357\u001b[0m, in \u001b[0;36mloads\u001b[0;34m(s, cls, object_hook, parse_float, parse_int, parse_constant, object_pairs_hook, **kw)\u001b[0m\n\u001b[1;32m    352\u001b[0m     \u001b[38;5;28;01mdel\u001b[39;00m kw[\u001b[38;5;124m'\u001b[39m\u001b[38;5;124mencoding\u001b[39m\u001b[38;5;124m'\u001b[39m]\n\u001b[1;32m    354\u001b[0m \u001b[38;5;28;01mif\u001b[39;00m (\u001b[38;5;28mcls\u001b[39m \u001b[38;5;129;01mis\u001b[39;00m \u001b[38;5;28;01mNone\u001b[39;00m \u001b[38;5;129;01mand\u001b[39;00m object_hook \u001b[38;5;129;01mis\u001b[39;00m \u001b[38;5;28;01mNone\u001b[39;00m \u001b[38;5;129;01mand\u001b[39;00m\n\u001b[1;32m    355\u001b[0m         parse_int \u001b[38;5;129;01mis\u001b[39;00m \u001b[38;5;28;01mNone\u001b[39;00m \u001b[38;5;129;01mand\u001b[39;00m parse_float \u001b[38;5;129;01mis\u001b[39;00m \u001b[38;5;28;01mNone\u001b[39;00m \u001b[38;5;129;01mand\u001b[39;00m\n\u001b[1;32m    356\u001b[0m         parse_constant \u001b[38;5;129;01mis\u001b[39;00m \u001b[38;5;28;01mNone\u001b[39;00m \u001b[38;5;129;01mand\u001b[39;00m object_pairs_hook \u001b[38;5;129;01mis\u001b[39;00m \u001b[38;5;28;01mNone\u001b[39;00m \u001b[38;5;129;01mand\u001b[39;00m \u001b[38;5;129;01mnot\u001b[39;00m kw):\n\u001b[0;32m--> 357\u001b[0m     \u001b[38;5;28;01mreturn\u001b[39;00m \u001b[43m_default_decoder\u001b[49m\u001b[38;5;241;43m.\u001b[39;49m\u001b[43mdecode\u001b[49m\u001b[43m(\u001b[49m\u001b[43ms\u001b[49m\u001b[43m)\u001b[49m\n\u001b[1;32m    358\u001b[0m \u001b[38;5;28;01mif\u001b[39;00m \u001b[38;5;28mcls\u001b[39m \u001b[38;5;129;01mis\u001b[39;00m \u001b[38;5;28;01mNone\u001b[39;00m:\n\u001b[1;32m    359\u001b[0m     \u001b[38;5;28mcls\u001b[39m \u001b[38;5;241m=\u001b[39m JSONDecoder\n",
      "File \u001b[0;32m/usr/lib/python3.8/json/decoder.py:337\u001b[0m, in \u001b[0;36mJSONDecoder.decode\u001b[0;34m(self, s, _w)\u001b[0m\n\u001b[1;32m    332\u001b[0m \u001b[38;5;28;01mdef\u001b[39;00m \u001b[38;5;21mdecode\u001b[39m(\u001b[38;5;28mself\u001b[39m, s, _w\u001b[38;5;241m=\u001b[39mWHITESPACE\u001b[38;5;241m.\u001b[39mmatch):\n\u001b[1;32m    333\u001b[0m     \u001b[38;5;124;03m\"\"\"Return the Python representation of ``s`` (a ``str`` instance\u001b[39;00m\n\u001b[1;32m    334\u001b[0m \u001b[38;5;124;03m    containing a JSON document).\u001b[39;00m\n\u001b[1;32m    335\u001b[0m \n\u001b[1;32m    336\u001b[0m \u001b[38;5;124;03m    \"\"\"\u001b[39;00m\n\u001b[0;32m--> 337\u001b[0m     obj, end \u001b[38;5;241m=\u001b[39m \u001b[38;5;28;43mself\u001b[39;49m\u001b[38;5;241;43m.\u001b[39;49m\u001b[43mraw_decode\u001b[49m\u001b[43m(\u001b[49m\u001b[43ms\u001b[49m\u001b[43m,\u001b[49m\u001b[43m \u001b[49m\u001b[43midx\u001b[49m\u001b[38;5;241;43m=\u001b[39;49m\u001b[43m_w\u001b[49m\u001b[43m(\u001b[49m\u001b[43ms\u001b[49m\u001b[43m,\u001b[49m\u001b[43m \u001b[49m\u001b[38;5;241;43m0\u001b[39;49m\u001b[43m)\u001b[49m\u001b[38;5;241;43m.\u001b[39;49m\u001b[43mend\u001b[49m\u001b[43m(\u001b[49m\u001b[43m)\u001b[49m\u001b[43m)\u001b[49m\n\u001b[1;32m    338\u001b[0m     end \u001b[38;5;241m=\u001b[39m _w(s, end)\u001b[38;5;241m.\u001b[39mend()\n\u001b[1;32m    339\u001b[0m     \u001b[38;5;28;01mif\u001b[39;00m end \u001b[38;5;241m!=\u001b[39m \u001b[38;5;28mlen\u001b[39m(s):\n",
      "File \u001b[0;32m/usr/lib/python3.8/json/decoder.py:355\u001b[0m, in \u001b[0;36mJSONDecoder.raw_decode\u001b[0;34m(self, s, idx)\u001b[0m\n\u001b[1;32m    353\u001b[0m     obj, end \u001b[38;5;241m=\u001b[39m \u001b[38;5;28mself\u001b[39m\u001b[38;5;241m.\u001b[39mscan_once(s, idx)\n\u001b[1;32m    354\u001b[0m \u001b[38;5;28;01mexcept\u001b[39;00m \u001b[38;5;167;01mStopIteration\u001b[39;00m \u001b[38;5;28;01mas\u001b[39;00m err:\n\u001b[0;32m--> 355\u001b[0m     \u001b[38;5;28;01mraise\u001b[39;00m JSONDecodeError(\u001b[38;5;124m\"\u001b[39m\u001b[38;5;124mExpecting value\u001b[39m\u001b[38;5;124m\"\u001b[39m, s, err\u001b[38;5;241m.\u001b[39mvalue) \u001b[38;5;28;01mfrom\u001b[39;00m \u001b[38;5;28mNone\u001b[39m\n\u001b[1;32m    356\u001b[0m \u001b[38;5;28;01mreturn\u001b[39;00m obj, end\n",
      "\u001b[0;31mJSONDecodeError\u001b[0m: Expecting value: line 1 column 1 (char 0)"
     ]
    }
   ],
   "source": [
    "timestamp,data_dic = get_ranking( user_id_input, timestamp_start )"
   ]
  },
  {
   "cell_type": "code",
   "execution_count": 54,
   "id": "ce8f1e52",
   "metadata": {},
   "outputs": [],
   "source": [
    "timestamp,data_dic = make_cick_and_get_ranking( user_id_input, timestamp, 'test20210704_paddy_at_fertilizer_management_crop' )"
   ]
  },
  {
   "cell_type": "code",
   "execution_count": 53,
   "id": "d3bb2841",
   "metadata": {},
   "outputs": [
    {
     "data": {
      "text/plain": [
       "1646242281014"
      ]
     },
     "execution_count": 53,
     "metadata": {},
     "output_type": "execute_result"
    }
   ],
   "source": [
    "timestamp"
   ]
  },
  {
   "cell_type": "code",
   "execution_count": 56,
   "id": "bf3936dd",
   "metadata": {
    "scrolled": false
   },
   "outputs": [
    {
     "data": {
      "text/html": [
       "<div>\n",
       "<style scoped>\n",
       "    .dataframe tbody tr th:only-of-type {\n",
       "        vertical-align: middle;\n",
       "    }\n",
       "\n",
       "    .dataframe tbody tr th {\n",
       "        vertical-align: top;\n",
       "    }\n",
       "\n",
       "    .dataframe thead th {\n",
       "        text-align: right;\n",
       "    }\n",
       "</style>\n",
       "<table border=\"1\" class=\"dataframe\">\n",
       "  <thead>\n",
       "    <tr style=\"text-align: right;\">\n",
       "      <th></th>\n",
       "      <th>item</th>\n",
       "      <th>score</th>\n",
       "      <th>features</th>\n",
       "      <th>iteration</th>\n",
       "    </tr>\n",
       "  </thead>\n",
       "  <tbody>\n",
       "    <tr>\n",
       "      <th>0</th>\n",
       "      <td>test20210704_paddy_at_fertilizer_management_crop</td>\n",
       "      <td>0.259677</td>\n",
       "      <td>[]</td>\n",
       "      <td>0</td>\n",
       "    </tr>\n",
       "    <tr>\n",
       "      <th>1</th>\n",
       "      <td>test20211103_paddy_harvest_management_crop</td>\n",
       "      <td>0.259677</td>\n",
       "      <td>[]</td>\n",
       "      <td>0</td>\n",
       "    </tr>\n",
       "    <tr>\n",
       "      <th>2</th>\n",
       "      <td>test20211102_paddy_bph_dpm_crop</td>\n",
       "      <td>-0.285705</td>\n",
       "      <td>[]</td>\n",
       "      <td>0</td>\n",
       "    </tr>\n",
       "    <tr>\n",
       "      <th>3</th>\n",
       "      <td>test20211102_groundnut_fertilizer_weed_managem...</td>\n",
       "      <td>-0.285705</td>\n",
       "      <td>[]</td>\n",
       "      <td>0</td>\n",
       "    </tr>\n",
       "    <tr>\n",
       "      <th>4</th>\n",
       "      <td>test20211204_paddy_nursery_management_crop</td>\n",
       "      <td>-0.285705</td>\n",
       "      <td>[]</td>\n",
       "      <td>0</td>\n",
       "    </tr>\n",
       "    <tr>\n",
       "      <th>5</th>\n",
       "      <td>test20210805_paddy_contingent_measures_crop</td>\n",
       "      <td>-0.285705</td>\n",
       "      <td>[]</td>\n",
       "      <td>0</td>\n",
       "    </tr>\n",
       "    <tr>\n",
       "      <th>6</th>\n",
       "      <td>test20210804_animal_cattle_buffalo_pp_livestock</td>\n",
       "      <td>-0.285705</td>\n",
       "      <td>[]</td>\n",
       "      <td>0</td>\n",
       "    </tr>\n",
       "    <tr>\n",
       "      <th>7</th>\n",
       "      <td>test20210902_animal_cattle_buffalo_hm_livestock</td>\n",
       "      <td>-0.285705</td>\n",
       "      <td>[]</td>\n",
       "      <td>0</td>\n",
       "    </tr>\n",
       "    <tr>\n",
       "      <th>8</th>\n",
       "      <td>test20211003_animal_cattle_buffalo_vaccination...</td>\n",
       "      <td>-0.285705</td>\n",
       "      <td>[]</td>\n",
       "      <td>0</td>\n",
       "    </tr>\n",
       "    <tr>\n",
       "      <th>9</th>\n",
       "      <td>test20210803_livestock_cattle_buffalo_vaccinat...</td>\n",
       "      <td>-0.285705</td>\n",
       "      <td>[]</td>\n",
       "      <td>0</td>\n",
       "    </tr>\n",
       "  </tbody>\n",
       "</table>\n",
       "</div>"
      ],
      "text/plain": [
       "                                                item     score features  \\\n",
       "0   test20210704_paddy_at_fertilizer_management_crop  0.259677       []   \n",
       "1         test20211103_paddy_harvest_management_crop  0.259677       []   \n",
       "2                    test20211102_paddy_bph_dpm_crop -0.285705       []   \n",
       "3  test20211102_groundnut_fertilizer_weed_managem... -0.285705       []   \n",
       "4         test20211204_paddy_nursery_management_crop -0.285705       []   \n",
       "5        test20210805_paddy_contingent_measures_crop -0.285705       []   \n",
       "6    test20210804_animal_cattle_buffalo_pp_livestock -0.285705       []   \n",
       "7    test20210902_animal_cattle_buffalo_hm_livestock -0.285705       []   \n",
       "8  test20211003_animal_cattle_buffalo_vaccination... -0.285705       []   \n",
       "9  test20210803_livestock_cattle_buffalo_vaccinat... -0.285705       []   \n",
       "\n",
       "   iteration  \n",
       "0          0  \n",
       "1          0  \n",
       "2          0  \n",
       "3          0  \n",
       "4          0  \n",
       "5          0  \n",
       "6          0  \n",
       "7          0  \n",
       "8          0  \n",
       "9          0  "
      ]
     },
     "execution_count": 56,
     "metadata": {},
     "output_type": "execute_result"
    }
   ],
   "source": [
    "ranked_items = pd.DataFrame(data_dic)\n",
    "ranked_items['iteration'] =  0 \n",
    "ranked_items"
   ]
  }
 ],
 "metadata": {
  "kernelspec": {
   "display_name": "Python 3 (ipykernel)",
   "language": "python",
   "name": "python3"
  },
  "language_info": {
   "codemirror_mode": {
    "name": "ipython",
    "version": 3
   },
   "file_extension": ".py",
   "mimetype": "text/x-python",
   "name": "python",
   "nbconvert_exporter": "python",
   "pygments_lexer": "ipython3",
   "version": "3.8.10"
  },
  "toc": {
   "base_numbering": 1,
   "nav_menu": {},
   "number_sections": true,
   "sideBar": true,
   "skip_h1_title": false,
   "title_cell": "Table of Contents",
   "title_sidebar": "Contents",
   "toc_cell": false,
   "toc_position": {},
   "toc_section_display": true,
   "toc_window_display": false
  },
  "varInspector": {
   "cols": {
    "lenName": 16,
    "lenType": 16,
    "lenVar": 40
   },
   "kernels_config": {
    "python": {
     "delete_cmd_postfix": "",
     "delete_cmd_prefix": "del ",
     "library": "var_list.py",
     "varRefreshCmd": "print(var_dic_list())"
    },
    "r": {
     "delete_cmd_postfix": ") ",
     "delete_cmd_prefix": "rm(",
     "library": "var_list.r",
     "varRefreshCmd": "cat(var_dic_list()) "
    }
   },
   "types_to_exclude": [
    "module",
    "function",
    "builtin_function_or_method",
    "instance",
    "_Feature"
   ],
   "window_display": false
  }
 },
 "nbformat": 4,
 "nbformat_minor": 5
}
